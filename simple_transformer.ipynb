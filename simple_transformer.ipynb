{
 "cells": [
  {
   "cell_type": "markdown",
   "id": "08bf62a1-5928-402a-8c6e-c16f57b1785f",
   "metadata": {},
   "source": [
    "# Simple Transformer"
   ]
  },
  {
   "cell_type": "markdown",
   "id": "4f85ec51-90ef-4b4b-a2ff-c1bf543f7ca6",
   "metadata": {},
   "source": [
    "## Training Data"
   ]
  },
  {
   "cell_type": "code",
   "execution_count": 1,
   "id": "65c599f6-f74b-46db-a842-c6bb2a226328",
   "metadata": {},
   "outputs": [],
   "source": [
    "with open('data/tiny_shakespeare.txt', 'r', encoding='utf-8') as input:\n",
    "    text = input.read()"
   ]
  },
  {
   "cell_type": "code",
   "execution_count": 2,
   "id": "dd4911a3-6700-4eca-abb8-4c327bf7239b",
   "metadata": {},
   "outputs": [
    {
     "name": "stdout",
     "output_type": "stream",
     "text": [
      "Number of characters in text: 1115394\n"
     ]
    }
   ],
   "source": [
    "print(f'Number of characters in text: {len(text)}')"
   ]
  },
  {
   "cell_type": "code",
   "execution_count": 3,
   "id": "d5b86014-9743-4b65-bcd1-a161d1470d99",
   "metadata": {},
   "outputs": [
    {
     "name": "stdout",
     "output_type": "stream",
     "text": [
      "First 100 chars:\n",
      "\n",
      "```\n",
      "First Citizen:\n",
      "Before we proceed any further, hear me speak.\n",
      "\n",
      "All:\n",
      "Speak, speak.\n",
      "\n",
      "First Citizen:\n",
      "You\n",
      "```\n"
     ]
    }
   ],
   "source": [
    "print(f'First 100 chars:\\n\\n```\\n{text[:100]}\\n```')"
   ]
  },
  {
   "cell_type": "code",
   "execution_count": 6,
   "id": "f1a4ef4e-a63e-4447-8bda-2340133535b3",
   "metadata": {},
   "outputs": [],
   "source": [
    "chars = sorted(list(set(text)))\n",
    "vocab_size = len(chars)"
   ]
  },
  {
   "cell_type": "code",
   "execution_count": 7,
   "id": "8012e7c3-b659-4940-974d-154b2fe40b30",
   "metadata": {},
   "outputs": [
    {
     "data": {
      "text/plain": [
       "65"
      ]
     },
     "execution_count": 7,
     "metadata": {},
     "output_type": "execute_result"
    }
   ],
   "source": [
    "vocab_size"
   ]
  },
  {
   "cell_type": "code",
   "execution_count": 8,
   "id": "a342dc4b-d14a-44c6-8e93-cdc2d71853c5",
   "metadata": {},
   "outputs": [
    {
     "data": {
      "text/plain": [
       "\"\\n !$&',-.3:;?ABCDEFGHIJKLMNOPQRSTUVWXYZabcdefghijklmnopqrstuvwxyz\""
      ]
     },
     "execution_count": 8,
     "metadata": {},
     "output_type": "execute_result"
    }
   ],
   "source": [
    "''.join(chars)"
   ]
  },
  {
   "cell_type": "code",
   "execution_count": 9,
   "id": "c7043b34-af2f-4322-abc3-77431000297d",
   "metadata": {},
   "outputs": [],
   "source": [
    "stoi = {ch:i for i, ch in enumerate(chars)}\n",
    "itos = {i:ch for i, ch in enumerate(chars)}"
   ]
  },
  {
   "cell_type": "code",
   "execution_count": 11,
   "id": "4f5ec98a-fd45-4ae2-a9a5-d21b96a7b20e",
   "metadata": {},
   "outputs": [],
   "source": [
    "encode = lambda s: [stoi[c] for c in s]\n",
    "decode = lambda l: [itos[i] for i in l]"
   ]
  },
  {
   "cell_type": "code",
   "execution_count": 13,
   "id": "7a946983-845d-4527-9a74-0e0165b3d310",
   "metadata": {},
   "outputs": [
    {
     "data": {
      "text/plain": [
       "[46, 43, 50, 50, 53, 1, 61, 53, 56, 50, 42, 2]"
      ]
     },
     "execution_count": 13,
     "metadata": {},
     "output_type": "execute_result"
    }
   ],
   "source": [
    "encoded_test = encode(\"hello world!\")\n",
    "encoded_test"
   ]
  },
  {
   "cell_type": "code",
   "execution_count": 14,
   "id": "0db542cd-3a7d-48b9-97bf-09cc632b400f",
   "metadata": {},
   "outputs": [
    {
     "data": {
      "text/plain": [
       "['h', 'e', 'l', 'l', 'o', ' ', 'w', 'o', 'r', 'l', 'd', '!']"
      ]
     },
     "execution_count": 14,
     "metadata": {},
     "output_type": "execute_result"
    }
   ],
   "source": [
    "decode(encoded_test)"
   ]
  },
  {
   "cell_type": "code",
   "execution_count": 18,
   "id": "66e89e70-ee94-4e3b-900f-7692367acf05",
   "metadata": {},
   "outputs": [],
   "source": [
    "data = encode(text)\n",
    "n = int(0.9 * len(data))\n",
    "train_data = data[:n]\n",
    "val_data = data[n:]"
   ]
  },
  {
   "cell_type": "code",
   "execution_count": 20,
   "id": "bdb47967-024b-4385-9e17-84546baa44de",
   "metadata": {},
   "outputs": [
    {
     "data": {
      "text/plain": [
       "[18, 47, 56, 57, 58, 1, 15, 47, 58]"
      ]
     },
     "execution_count": 20,
     "metadata": {},
     "output_type": "execute_result"
    }
   ],
   "source": [
    "block_size = 8\n",
    "train_data[:block_size + 1]"
   ]
  },
  {
   "cell_type": "code",
   "execution_count": null,
   "id": "2d164961-eaee-44cf-88ef-8b9bbc85ff3d",
   "metadata": {},
   "outputs": [],
   "source": []
  }
 ],
 "metadata": {
  "kernelspec": {
   "display_name": "Python 3 (ipykernel)",
   "language": "python",
   "name": "python3"
  },
  "language_info": {
   "codemirror_mode": {
    "name": "ipython",
    "version": 3
   },
   "file_extension": ".py",
   "mimetype": "text/x-python",
   "name": "python",
   "nbconvert_exporter": "python",
   "pygments_lexer": "ipython3",
   "version": "3.11.4"
  }
 },
 "nbformat": 4,
 "nbformat_minor": 5
}
