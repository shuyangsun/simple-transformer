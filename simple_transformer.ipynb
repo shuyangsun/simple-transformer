{
 "cells": [
  {
   "cell_type": "markdown",
   "id": "08bf62a1-5928-402a-8c6e-c16f57b1785f",
   "metadata": {
    "editable": true,
    "slideshow": {
     "slide_type": ""
    },
    "tags": []
   },
   "source": [
    "# Simple Transformer"
   ]
  },
  {
   "cell_type": "code",
   "execution_count": null,
   "id": "824a1833-c1f9-47bf-96ca-c69696240d67",
   "metadata": {},
   "outputs": [],
   "source": [
    "import time\n",
    "import torch\n",
    "import torch.nn as nn\n",
    "import numpy as np\n",
    "\n",
    "from torch.nn import functional as F"
   ]
  },
  {
   "cell_type": "code",
   "execution_count": null,
   "id": "80ff43f7-2073-4da1-b665-5e0114026197",
   "metadata": {},
   "outputs": [],
   "source": [
    "torch.manual_seed(1337)"
   ]
  },
  {
   "cell_type": "markdown",
   "id": "8730624c-8aeb-4411-859b-5f15e0e7063d",
   "metadata": {},
   "source": [
    "## Constants"
   ]
  },
  {
   "cell_type": "code",
   "execution_count": null,
   "id": "5ffa7fa2-4f21-4bd0-aee3-bb68c051ca91",
   "metadata": {},
   "outputs": [],
   "source": [
    "batch_size = 60\n",
    "block_size = 512\n",
    "max_iters = 5000\n",
    "learning_rate = 2e-4\n",
    "loss_est_n_batch = 2\n",
    "\n",
    "embedding_size = 768\n",
    "num_heads = 6\n",
    "head_size = embedding_size\n",
    "n_layer = 6\n",
    "dropout = 0.3"
   ]
  },
  {
   "cell_type": "markdown",
   "id": "431b78bb-3c81-48f2-8119-9865dba37740",
   "metadata": {},
   "source": [
    "## Hardware"
   ]
  },
  {
   "cell_type": "code",
   "execution_count": null,
   "id": "3bd5b377-251d-4c55-b88f-b30c20176881",
   "metadata": {},
   "outputs": [],
   "source": [
    "has_cuda = torch.cuda.is_available() and torch.backends.cuda.is_built()\n",
    "has_mps = torch.backends.mps.is_available() and torch.backends.mps.is_built()\n",
    "print(f'CUDA available: {has_cuda}')\n",
    "if has_cuda:\n",
    "    print(f'  * GPU count: {torch.cuda.device_count()}')\n",
    "print(f'mps available: {has_mps}')"
   ]
  },
  {
   "cell_type": "code",
   "execution_count": null,
   "id": "905731da-df5a-4a80-9d11-127abf3955bb",
   "metadata": {},
   "outputs": [],
   "source": [
    "device = \"cpu\"\n",
    "if has_cuda:\n",
    "    device = \"cuda\"\n",
    "elif has_mps:\n",
    "    device = \"mps\"\n",
    "# device = \"cpu\"\n",
    "torch.set_default_device(device)"
   ]
  },
  {
   "cell_type": "markdown",
   "id": "4f85ec51-90ef-4b4b-a2ff-c1bf543f7ca6",
   "metadata": {},
   "source": [
    "## Training Data"
   ]
  },
  {
   "cell_type": "code",
   "execution_count": null,
   "id": "65c599f6-f74b-46db-a842-c6bb2a226328",
   "metadata": {
    "editable": true,
    "slideshow": {
     "slide_type": ""
    },
    "tags": []
   },
   "outputs": [],
   "source": [
    "with open('data/tiny_shakespeare.txt', 'r', encoding='utf-8') as input:\n",
    "    text = input.read()"
   ]
  },
  {
   "cell_type": "code",
   "execution_count": null,
   "id": "dd4911a3-6700-4eca-abb8-4c327bf7239b",
   "metadata": {
    "editable": true,
    "slideshow": {
     "slide_type": ""
    },
    "tags": []
   },
   "outputs": [],
   "source": [
    "print(f'Number of characters in text: {len(text)}')"
   ]
  },
  {
   "cell_type": "code",
   "execution_count": null,
   "id": "d5b86014-9743-4b65-bcd1-a161d1470d99",
   "metadata": {
    "editable": true,
    "slideshow": {
     "slide_type": ""
    },
    "tags": []
   },
   "outputs": [],
   "source": [
    "print(f'First 100 chars:\\n\\n```\\n{text[:100]}\\n```')"
   ]
  },
  {
   "cell_type": "code",
   "execution_count": null,
   "id": "f1a4ef4e-a63e-4447-8bda-2340133535b3",
   "metadata": {
    "editable": true,
    "slideshow": {
     "slide_type": ""
    },
    "tags": []
   },
   "outputs": [],
   "source": [
    "chars = sorted(list(set(text)))\n",
    "vocab_size = len(chars)"
   ]
  },
  {
   "cell_type": "code",
   "execution_count": null,
   "id": "8012e7c3-b659-4940-974d-154b2fe40b30",
   "metadata": {
    "editable": true,
    "slideshow": {
     "slide_type": ""
    },
    "tags": []
   },
   "outputs": [],
   "source": [
    "vocab_size"
   ]
  },
  {
   "cell_type": "code",
   "execution_count": null,
   "id": "a342dc4b-d14a-44c6-8e93-cdc2d71853c5",
   "metadata": {
    "editable": true,
    "slideshow": {
     "slide_type": ""
    },
    "tags": []
   },
   "outputs": [],
   "source": [
    "''.join(chars)"
   ]
  },
  {
   "cell_type": "code",
   "execution_count": null,
   "id": "c7043b34-af2f-4322-abc3-77431000297d",
   "metadata": {
    "editable": true,
    "slideshow": {
     "slide_type": ""
    },
    "tags": []
   },
   "outputs": [],
   "source": [
    "stoi = {ch:i for i, ch in enumerate(chars)}\n",
    "itos = {i:ch for i, ch in enumerate(chars)}"
   ]
  },
  {
   "cell_type": "code",
   "execution_count": null,
   "id": "4f5ec98a-fd45-4ae2-a9a5-d21b96a7b20e",
   "metadata": {
    "editable": true,
    "slideshow": {
     "slide_type": ""
    },
    "tags": []
   },
   "outputs": [],
   "source": [
    "encode = lambda s: [stoi[c] for c in s]\n",
    "decode = lambda l: ''.join([itos[i] for i in l])"
   ]
  },
  {
   "cell_type": "code",
   "execution_count": null,
   "id": "7a946983-845d-4527-9a74-0e0165b3d310",
   "metadata": {
    "editable": true,
    "slideshow": {
     "slide_type": ""
    },
    "tags": []
   },
   "outputs": [],
   "source": [
    "encoded_test = encode(\"hello world!\")\n",
    "encoded_test"
   ]
  },
  {
   "cell_type": "code",
   "execution_count": null,
   "id": "0db542cd-3a7d-48b9-97bf-09cc632b400f",
   "metadata": {
    "editable": true,
    "slideshow": {
     "slide_type": ""
    },
    "tags": []
   },
   "outputs": [],
   "source": [
    "decode(encoded_test)"
   ]
  },
  {
   "cell_type": "code",
   "execution_count": null,
   "id": "66e89e70-ee94-4e3b-900f-7692367acf05",
   "metadata": {
    "editable": true,
    "slideshow": {
     "slide_type": ""
    },
    "tags": []
   },
   "outputs": [],
   "source": [
    "data = torch.tensor(encode(text), dtype=torch.long)\n",
    "n = int(0.9 * len(data))\n",
    "train_data = data[:n]\n",
    "val_data = data[n:]"
   ]
  },
  {
   "cell_type": "code",
   "execution_count": null,
   "id": "bdb47967-024b-4385-9e17-84546baa44de",
   "metadata": {
    "editable": true,
    "slideshow": {
     "slide_type": ""
    },
    "tags": []
   },
   "outputs": [],
   "source": [
    "train_data[:block_size + 1]"
   ]
  },
  {
   "cell_type": "code",
   "execution_count": null,
   "id": "2d164961-eaee-44cf-88ef-8b9bbc85ff3d",
   "metadata": {
    "editable": true,
    "slideshow": {
     "slide_type": ""
    },
    "tags": []
   },
   "outputs": [],
   "source": [
    "x = train_data[:block_size]\n",
    "y = train_data[1:block_size+1]"
   ]
  },
  {
   "cell_type": "markdown",
   "id": "215448f0-2e4d-44dd-a8d2-b0e1e1d3d1d7",
   "metadata": {},
   "source": [
    "## Generate Batch Data"
   ]
  },
  {
   "cell_type": "code",
   "execution_count": null,
   "id": "3fdec0df-c784-41f3-9631-bd44c86db44b",
   "metadata": {},
   "outputs": [],
   "source": [
    "def get_batch(split):\n",
    "    data = train_data if split == 'train' else val_data\n",
    "    ix = torch.randint(len(data) - block_size, (batch_size,))\n",
    "    x = torch.stack([data[i:i+block_size] for i in ix])\n",
    "    y = torch.stack([data[i+1:i+block_size+1] for i in ix])\n",
    "    return x, y"
   ]
  },
  {
   "cell_type": "code",
   "execution_count": null,
   "id": "c74652d9-faf7-4cc5-b231-e425a6226fff",
   "metadata": {},
   "outputs": [],
   "source": [
    "xb, yb = get_batch('train')\n",
    "print('inputs:')\n",
    "print(xb.shape)\n",
    "print(xb[:5])\n",
    "print('targets:')\n",
    "print(yb.shape)\n",
    "print(yb[:5])"
   ]
  },
  {
   "cell_type": "code",
   "execution_count": null,
   "id": "4711ae0b-e395-4750-be3f-77b0ba9cd356",
   "metadata": {},
   "outputs": [],
   "source": [
    "for t in range(8):\n",
    "    context = xb[0, :t+1]\n",
    "    target = yb[0, t]\n",
    "    print(f'input: {context}, target: {target}')"
   ]
  },
  {
   "cell_type": "markdown",
   "id": "97333a17-b8bd-4047-878c-a9b275582a41",
   "metadata": {},
   "source": [
    "## Neural Net"
   ]
  },
  {
   "cell_type": "code",
   "execution_count": null,
   "id": "9d03ea8c-16ff-41a0-81d9-249a2cf3468e",
   "metadata": {},
   "outputs": [],
   "source": [
    "@torch.no_grad()\n",
    "def estimate_loss(model, eval_iters):\n",
    "    out = {}\n",
    "    model.eval()\n",
    "    for split in ['train', 'val']:\n",
    "        losses = torch.zeros(eval_iters)\n",
    "        for k in range(eval_iters):\n",
    "            X, Y = get_batch(split)\n",
    "            _, loss = model(X, Y)\n",
    "            losses[k] = loss.item()\n",
    "        out[split] = losses.mean().item()\n",
    "    model.train()\n",
    "    return out"
   ]
  },
  {
   "cell_type": "code",
   "execution_count": null,
   "id": "fe00ce70-aa95-46cf-a5dc-f5f16b0ed3ad",
   "metadata": {},
   "outputs": [],
   "source": [
    "class Head(nn.Module):\n",
    "    def __init__(self, n_embd: int, head_size: int):\n",
    "        super().__init__()\n",
    "        self.key = nn.Linear(n_embd, head_size, bias=False)\n",
    "        self.query = nn.Linear(n_embd, head_size, bias=False)\n",
    "        self.value = nn.Linear(n_embd, head_size, bias=False)\n",
    "        self.register_buffer('tril', torch.tril(torch.ones(block_size, block_size)))\n",
    "        self.dropout = nn.Dropout(dropout)\n",
    "\n",
    "    def forward(self, x):\n",
    "        \"\"\"\n",
    "        Input: (B, T, C)\n",
    "        Ouput: (B, T, head_size)\n",
    "        \"\"\"\n",
    "        B, T, C = x.shape\n",
    "\n",
    "        k = self.key(x) # (B, T, head_size)\n",
    "        q = self.query(x) # (B, T, head_size)\n",
    "        v = self.value(x) # (B, T, head_size)\n",
    "\n",
    "        wei = q @ k.transpose(-2, -1) * (C**-0.5) # (B, T, head_size) @ (B, head_size, T) = (B, T, T)\n",
    "        wei = wei.masked_fill(self.tril[:T, :T] == 0, float('-inf')) # (B, T, T)\n",
    "        wei = F.softmax(wei, dim=-1) # (B, T, T)\n",
    "        wei = self.dropout(wei)\n",
    "        \n",
    "        out = wei @ v # (B, T, T) @ (B, T, head_size) = (B, T, head_size)\n",
    "        return out"
   ]
  },
  {
   "cell_type": "code",
   "execution_count": null,
   "id": "c0d62742-c3a8-4dd0-9709-97adc4387ad7",
   "metadata": {},
   "outputs": [],
   "source": [
    "class MultiHeadAttention(nn.Module):\n",
    "    def __init__(self, n_embd: int, n_heads: int, head_size: int):\n",
    "        super().__init__()\n",
    "        self.heads = nn.ModuleList([Head(n_embd, head_size//n_heads) for _ in range(n_heads)])\n",
    "        self.proj = nn.Linear(head_size, head_size)\n",
    "        self.dropout = nn.Dropout(dropout)\n",
    "\n",
    "    def forward(self, x):\n",
    "        \"\"\"\n",
    "        Input: (B, T, C)\n",
    "        Ouput: (B, T, head_size)\n",
    "        \"\"\"\n",
    "        out = torch.cat([h(x) for h in self.heads], dim=-1)\n",
    "        out = self.proj(out)\n",
    "        out = self.dropout(out)\n",
    "        return out"
   ]
  },
  {
   "cell_type": "code",
   "execution_count": null,
   "id": "2001aa70-5ad8-4bc7-b360-7afc1546ac77",
   "metadata": {},
   "outputs": [],
   "source": [
    "class FeedForward(nn.Module):\n",
    "    def __init__(self, head_size: int):\n",
    "        super().__init__()\n",
    "        self.net = nn.Sequential(\n",
    "            nn.Linear(head_size, head_size * 4),\n",
    "            nn.ReLU(),\n",
    "            nn.Linear(head_size * 4, head_size),\n",
    "            nn.Dropout(dropout),\n",
    "        )\n",
    "\n",
    "    def forward(self, x):\n",
    "        \"\"\"\n",
    "        Input: (B, T, head_size)\n",
    "        Ouput: (B, T, head_size)\n",
    "        \"\"\"\n",
    "        return self.net(x)"
   ]
  },
  {
   "cell_type": "code",
   "execution_count": null,
   "id": "da68bb37-5b36-436d-9449-eacbf09b37e7",
   "metadata": {},
   "outputs": [],
   "source": [
    "class Block(nn.Module):\n",
    "    def __init__(self, n_embd: int, n_head: int, head_size: int):\n",
    "        super().__init__()\n",
    "        self.sa = MultiHeadAttention(n_embd, n_head, head_size)\n",
    "        self.ffwd = FeedForward(head_size)\n",
    "        self.ln1 = nn.LayerNorm(head_size)\n",
    "        self.ln2 = nn.LayerNorm(head_size)\n",
    "\n",
    "    def forward(self, x):\n",
    "        \"\"\"\n",
    "        Input: (B, T, C)\n",
    "        Ouput: (B, T, head_size)\n",
    "        \"\"\"\n",
    "        x = self.ln1(x)\n",
    "        x = x + self.sa(x) # (B, T, C) ---> (B, T, head_size)\n",
    "        x = self.ln2(x)\n",
    "        x = x + self.ffwd(x) # (B, T, head_size) ---> (B, T, head_size)\n",
    "        return x"
   ]
  },
  {
   "cell_type": "code",
   "execution_count": null,
   "id": "02508505-675e-476a-90ca-8c5723c89d23",
   "metadata": {},
   "outputs": [],
   "source": [
    "class BigramLanguageModel(nn.Module):\n",
    "\n",
    "    def __init__(self, vocab_size: int, n_embd: int, n_head: int, head_size: int, n_layer: int) -> None:\n",
    "        super().__init__()\n",
    "        self.token_embedding_table = nn.Embedding(vocab_size, n_embd)\n",
    "        self.pos_embedding_table = nn.Embedding(block_size, n_embd)\n",
    "        self.blocks = nn.Sequential(*[Block(n_embd, n_head, head_size) for _ in range(n_layer)])\n",
    "        self.ln_f = nn.LayerNorm(head_size)\n",
    "        self.lm_head = nn.Linear(head_size, vocab_size)\n",
    "\n",
    "    def forward(self, idx, targets=None):\n",
    "        B, T = idx.shape\n",
    "        tok_emb = self.token_embedding_table(idx) # (B, T, C) batch, time, channel\n",
    "        pos_emb = self.pos_embedding_table(torch.arange(T)) # (T, C)\n",
    "        x = tok_emb + pos_emb\n",
    "        x = self.blocks(x)\n",
    "        logits = self.lm_head(x) # (B, T, vocab_size)\n",
    "\n",
    "        loss = None\n",
    "        if targets is not None:\n",
    "            B, T, C = logits.shape\n",
    "            targets = targets.view(B*T)\n",
    "            loss = F.cross_entropy(logits.view(B*T, C), targets)\n",
    "        return logits, loss\n",
    "\n",
    "    def generate(self, idx, max_new_tokens):\n",
    "        for _ in range(max_new_tokens):\n",
    "            idx_conx = idx[:, -block_size:]\n",
    "            logits, _ = self(idx_conx)\n",
    "            logits = logits[:, -1, :] # (B, C)\n",
    "            probs = F.softmax(logits, dim=-1) # (B, C)\n",
    "            idx_next = torch.multinomial(probs, num_samples=1) # (B, 1)\n",
    "            idx = torch.cat((idx, idx_next), dim=1)\n",
    "        return idx"
   ]
  },
  {
   "cell_type": "code",
   "execution_count": null,
   "id": "ccf9b76c-7d0f-4006-a1d6-339c2f5766b3",
   "metadata": {},
   "outputs": [],
   "source": [
    "m = BigramLanguageModel(vocab_size, embedding_size, num_heads, head_size, n_layer)"
   ]
  },
  {
   "cell_type": "code",
   "execution_count": null,
   "id": "8876308c-6937-4dcc-b409-693b0f8e5b4c",
   "metadata": {},
   "outputs": [],
   "source": [
    "num_params = sum(p.numel() for p in m.parameters())\n",
    "print(\"{num_params:.2f}M parameters\".format(num_params=num_params/1e6))"
   ]
  },
  {
   "cell_type": "code",
   "execution_count": null,
   "id": "96e2026a-0ec1-467a-9610-d2e1a4ac7c1b",
   "metadata": {},
   "outputs": [],
   "source": [
    "logits, loss = m(xb, yb)\n",
    "print(f\"logits shape: {logits.shape}\")\n",
    "print(f\"loss: {loss}\")"
   ]
  },
  {
   "cell_type": "code",
   "execution_count": null,
   "id": "ec2a8d20-6e1f-4e8d-9b1b-22d72ea67186",
   "metadata": {
    "scrolled": true
   },
   "outputs": [],
   "source": [
    "idx = torch.zeros((1, 1), dtype=torch.long)\n",
    "generated = m.generate(idx, max_new_tokens=100)\n",
    "print(decode(generated[0].tolist()))"
   ]
  },
  {
   "cell_type": "code",
   "execution_count": null,
   "id": "f7e07b71-bcf0-4e51-b04a-8db5ac29b399",
   "metadata": {},
   "outputs": [],
   "source": [
    "estimate_loss(m, loss_est_n_batch)"
   ]
  },
  {
   "cell_type": "markdown",
   "id": "db36b1ca-6e08-4b00-8350-8a6337e763f0",
   "metadata": {},
   "source": [
    "## Training"
   ]
  },
  {
   "cell_type": "code",
   "execution_count": null,
   "id": "ab7a0fca-c2f2-4fee-88dd-450b92ffe07f",
   "metadata": {},
   "outputs": [],
   "source": [
    "optimizer = torch.optim.AdamW(m.parameters(), lr=1e-3)"
   ]
  },
  {
   "cell_type": "code",
   "execution_count": null,
   "id": "e50c4ac1-e4ad-4ffa-a73e-2efecf99e9eb",
   "metadata": {},
   "outputs": [],
   "source": [
    "train_step = 0"
   ]
  },
  {
   "cell_type": "code",
   "execution_count": null,
   "id": "0c71b7d5-36ee-4faa-a045-f4b3eed09709",
   "metadata": {},
   "outputs": [],
   "source": [
    "start = time.time()\n",
    "for _ in range(max_iters):\n",
    "    train_step += 1\n",
    "    xb, yb = get_batch('train')\n",
    "    logits, loss = m(xb, yb)\n",
    "    optimizer.zero_grad(set_to_none=True)\n",
    "    loss.backward()\n",
    "    optimizer.step()\n",
    "    if train_step <= 1 or train_step % (max_iters // 20) == 0:\n",
    "        batch_loss = estimate_loss(m, loss_est_n_batch)\n",
    "        print(\"Step {step}: train_loss={train:.5f}, val_loss={val:.5f}, dur={dur:.2f}s\".format(step=train_step, train=batch_loss['train'], val=batch_loss['val'], dur=time.time() - start))"
   ]
  },
  {
   "cell_type": "code",
   "execution_count": null,
   "id": "fbf8ea44-65cf-42a3-8cce-69e772a7f9ff",
   "metadata": {
    "scrolled": true
   },
   "outputs": [],
   "source": [
    "start_text = \"Sky, \"\n",
    "idx = torch.tensor(np.array(encode(start_text)), dtype=torch.long).view(1, len(start_text))\n",
    "m.eval()\n",
    "generated = m.generate(idx, max_new_tokens=300)\n",
    "m.train()\n",
    "print(decode(generated[0].tolist()))"
   ]
  },
  {
   "cell_type": "markdown",
   "id": "fa3b2931-52fb-4311-97db-110174b84ba4",
   "metadata": {},
   "source": [
    "## Self-Attention"
   ]
  },
  {
   "cell_type": "code",
   "execution_count": null,
   "id": "1a47fba0-a17c-4865-b834-d9580620c0b8",
   "metadata": {},
   "outputs": [],
   "source": [
    "B, T, C = 11, 5, 7\n",
    "x = torch.randn(B, T, C)"
   ]
  },
  {
   "cell_type": "code",
   "execution_count": null,
   "id": "1fd0c69a-d303-4973-be34-78ddd1683263",
   "metadata": {},
   "outputs": [],
   "source": [
    "head_size = 3\n",
    "sqrt_dk = head_size ** -0.5\n",
    "\n",
    "key = nn.Linear(C, head_size, bias=False)\n",
    "query = nn.Linear(C, head_size, bias=False)\n",
    "value = nn.Linear(C, head_size, bias=False)\n",
    "k = key(x) # (B, T, head_size)\n",
    "q = query(x) # (B, T, head_size)\n",
    "v = value(x) # (B, T, head_size)\n",
    "\n",
    "wei = q @ k.transpose(-2, -1) * sqrt_dk # (B, T, head_size) @ (B, head_size, T) = (B, T, T)\n",
    "tril = torch.tril(torch.ones(T, T))\n",
    "wei = wei.masked_fill(tril == 0, float('-inf'))\n",
    "wei = F.softmax(wei, dim=-1)"
   ]
  },
  {
   "cell_type": "code",
   "execution_count": null,
   "id": "9a8247ab-ce31-4702-9e98-3807bd923daf",
   "metadata": {},
   "outputs": [],
   "source": [
    "out = wei @ v"
   ]
  },
  {
   "cell_type": "code",
   "execution_count": null,
   "id": "db2eb12d-ce87-4b9a-a5b6-7ce1febe90b9",
   "metadata": {},
   "outputs": [],
   "source": [
    "print(f\"(B, T, C)=({B}, {T}, {C})\")\n",
    "print(f\"x.shape={x.shape}\")\n",
    "print(f\"k.shape={k.shape}\")\n",
    "print(f\"q.shape={q.shape}\")\n",
    "print(f\"v.shape={v.shape}\")\n",
    "print(f\"wei.shape={wei.shape}\")\n",
    "print(f\"out.shape={out.shape}\")"
   ]
  },
  {
   "cell_type": "code",
   "execution_count": null,
   "id": "515d9fec-9da2-4af4-a297-5e43dcebc596",
   "metadata": {},
   "outputs": [],
   "source": [
    "x[0]"
   ]
  },
  {
   "cell_type": "code",
   "execution_count": null,
   "id": "0dbda2ae-ac7e-4e45-8e76-784e08e5ff92",
   "metadata": {},
   "outputs": [],
   "source": [
    "wei[0]"
   ]
  },
  {
   "cell_type": "code",
   "execution_count": null,
   "id": "a4756dbc-d116-492b-8bdf-db2886bb3af7",
   "metadata": {},
   "outputs": [],
   "source": [
    "out[0]"
   ]
  }
 ],
 "metadata": {
  "kernelspec": {
   "display_name": "Python 3 (ipykernel)",
   "language": "python",
   "name": "python3"
  },
  "language_info": {
   "codemirror_mode": {
    "name": "ipython",
    "version": 3
   },
   "file_extension": ".py",
   "mimetype": "text/x-python",
   "name": "python",
   "nbconvert_exporter": "python",
   "pygments_lexer": "ipython3",
   "version": "3.11.4"
  }
 },
 "nbformat": 4,
 "nbformat_minor": 5
}
