{
 "cells": [
  {
   "cell_type": "markdown",
   "id": "08bf62a1-5928-402a-8c6e-c16f57b1785f",
   "metadata": {
    "editable": true,
    "slideshow": {
     "slide_type": ""
    },
    "tags": []
   },
   "source": [
    "# Simple Transformer"
   ]
  },
  {
   "cell_type": "code",
   "execution_count": 1,
   "id": "824a1833-c1f9-47bf-96ca-c69696240d67",
   "metadata": {},
   "outputs": [],
   "source": [
    "import sys\n",
    "import time\n",
    "import torch\n",
    "import torch.nn as nn\n",
    "import numpy as np\n",
    "\n",
    "from datetime import datetime\n",
    "from torch.nn import functional as F"
   ]
  },
  {
   "cell_type": "code",
   "execution_count": 2,
   "id": "80ff43f7-2073-4da1-b665-5e0114026197",
   "metadata": {},
   "outputs": [
    {
     "data": {
      "text/plain": [
       "<torch._C.Generator at 0x1bafea62170>"
      ]
     },
     "execution_count": 2,
     "metadata": {},
     "output_type": "execute_result"
    }
   ],
   "source": [
    "torch.manual_seed(1337)"
   ]
  },
  {
   "cell_type": "markdown",
   "id": "8730624c-8aeb-4411-859b-5f15e0e7063d",
   "metadata": {},
   "source": [
    "## Constants"
   ]
  },
  {
   "cell_type": "code",
   "execution_count": 3,
   "id": "5ffa7fa2-4f21-4bd0-aee3-bb68c051ca91",
   "metadata": {},
   "outputs": [],
   "source": [
    "batch_size = 64\n",
    "block_size = 512\n",
    "max_iters = 10000\n",
    "eval_interval = 200\n",
    "learning_rate = 2e-4\n",
    "loss_est_n_batch = 10\n",
    "\n",
    "embedding_size = 384\n",
    "num_heads = 6\n",
    "head_size = embedding_size\n",
    "n_layer = 6\n",
    "dropout = 0.5"
   ]
  },
  {
   "cell_type": "markdown",
   "id": "431b78bb-3c81-48f2-8119-9865dba37740",
   "metadata": {},
   "source": [
    "## Hardware"
   ]
  },
  {
   "cell_type": "code",
   "execution_count": 4,
   "id": "3bd5b377-251d-4c55-b88f-b30c20176881",
   "metadata": {},
   "outputs": [
    {
     "name": "stdout",
     "output_type": "stream",
     "text": [
      "CUDA available: True\n",
      "  * GPU count: 1\n",
      "mps available: False\n"
     ]
    }
   ],
   "source": [
    "has_cuda = torch.cuda.is_available() and torch.backends.cuda.is_built()\n",
    "has_mps = torch.backends.mps.is_available() and torch.backends.mps.is_built()\n",
    "print(f'CUDA available: {has_cuda}')\n",
    "if has_cuda:\n",
    "    print(f'  * GPU count: {torch.cuda.device_count()}')\n",
    "print(f'mps available: {has_mps}')"
   ]
  },
  {
   "cell_type": "code",
   "execution_count": 5,
   "id": "905731da-df5a-4a80-9d11-127abf3955bb",
   "metadata": {},
   "outputs": [],
   "source": [
    "device = \"cpu\"\n",
    "if has_cuda:\n",
    "    device = \"cuda\"\n",
    "elif has_mps:\n",
    "    device = \"mps\"\n",
    "torch.set_default_device(device)"
   ]
  },
  {
   "cell_type": "code",
   "execution_count": 6,
   "id": "48420e27-ff3d-4382-b155-d8fb0773dd27",
   "metadata": {},
   "outputs": [
    {
     "data": {
      "text/plain": [
       "'cuda'"
      ]
     },
     "execution_count": 6,
     "metadata": {},
     "output_type": "execute_result"
    }
   ],
   "source": [
    "device"
   ]
  },
  {
   "cell_type": "code",
   "execution_count": 7,
   "id": "46f9f144-26b0-4e22-8b9c-692e1e686b1a",
   "metadata": {},
   "outputs": [
    {
     "name": "stdout",
     "output_type": "stream",
     "text": [
      "Should compile: False\n"
     ]
    }
   ],
   "source": [
    "should_compile = True\n",
    "if sys.platform == \"win32\":\n",
    "    should_compile = False\n",
    "print(f\"Should compile: {should_compile}\")"
   ]
  },
  {
   "cell_type": "markdown",
   "id": "4f85ec51-90ef-4b4b-a2ff-c1bf543f7ca6",
   "metadata": {},
   "source": [
    "## Training Data"
   ]
  },
  {
   "cell_type": "code",
   "execution_count": 8,
   "id": "65c599f6-f74b-46db-a842-c6bb2a226328",
   "metadata": {
    "editable": true,
    "slideshow": {
     "slide_type": ""
    },
    "tags": []
   },
   "outputs": [],
   "source": [
    "with open('data/tiny_shakespeare.txt', 'r', encoding='utf-8') as input:\n",
    "    text = input.read()"
   ]
  },
  {
   "cell_type": "code",
   "execution_count": 9,
   "id": "dd4911a3-6700-4eca-abb8-4c327bf7239b",
   "metadata": {
    "editable": true,
    "slideshow": {
     "slide_type": ""
    },
    "tags": []
   },
   "outputs": [
    {
     "name": "stdout",
     "output_type": "stream",
     "text": [
      "Number of characters in text: 1115394\n"
     ]
    }
   ],
   "source": [
    "print(f'Number of characters in text: {len(text)}')"
   ]
  },
  {
   "cell_type": "code",
   "execution_count": 10,
   "id": "d5b86014-9743-4b65-bcd1-a161d1470d99",
   "metadata": {
    "editable": true,
    "slideshow": {
     "slide_type": ""
    },
    "tags": []
   },
   "outputs": [
    {
     "name": "stdout",
     "output_type": "stream",
     "text": [
      "First 100 chars:\n",
      "\n",
      "```\n",
      "First Citizen:\n",
      "Before we proceed any further, hear me speak.\n",
      "\n",
      "All:\n",
      "Speak, speak.\n",
      "\n",
      "First Citizen:\n",
      "You\n",
      "```\n"
     ]
    }
   ],
   "source": [
    "print(f'First 100 chars:\\n\\n```\\n{text[:100]}\\n```')"
   ]
  },
  {
   "cell_type": "code",
   "execution_count": 11,
   "id": "ecffa6ea-06e7-47f8-a59d-0e5a18aa0d52",
   "metadata": {},
   "outputs": [],
   "source": [
    "words = text.split(\" \")"
   ]
  },
  {
   "cell_type": "code",
   "execution_count": 12,
   "id": "b9d7d2a0-5cda-4385-9b1b-3ebb6f906fea",
   "metadata": {},
   "outputs": [
    {
     "data": {
      "text/plain": [
       "169893"
      ]
     },
     "execution_count": 12,
     "metadata": {},
     "output_type": "execute_result"
    }
   ],
   "source": [
    "len(words)"
   ]
  },
  {
   "cell_type": "code",
   "execution_count": 13,
   "id": "f1a4ef4e-a63e-4447-8bda-2340133535b3",
   "metadata": {
    "editable": true,
    "slideshow": {
     "slide_type": ""
    },
    "tags": []
   },
   "outputs": [],
   "source": [
    "chars = sorted(list(set(text)))\n",
    "vocab_size = len(chars)"
   ]
  },
  {
   "cell_type": "code",
   "execution_count": 14,
   "id": "8012e7c3-b659-4940-974d-154b2fe40b30",
   "metadata": {
    "editable": true,
    "slideshow": {
     "slide_type": ""
    },
    "tags": []
   },
   "outputs": [
    {
     "data": {
      "text/plain": [
       "65"
      ]
     },
     "execution_count": 14,
     "metadata": {},
     "output_type": "execute_result"
    }
   ],
   "source": [
    "vocab_size"
   ]
  },
  {
   "cell_type": "code",
   "execution_count": 15,
   "id": "a342dc4b-d14a-44c6-8e93-cdc2d71853c5",
   "metadata": {
    "editable": true,
    "slideshow": {
     "slide_type": ""
    },
    "tags": []
   },
   "outputs": [
    {
     "data": {
      "text/plain": [
       "\"\\n !$&',-.3:;?ABCDEFGHIJKLMNOPQRSTUVWXYZabcdefghijklmnopqrstuvwxyz\""
      ]
     },
     "execution_count": 15,
     "metadata": {},
     "output_type": "execute_result"
    }
   ],
   "source": [
    "''.join(chars)"
   ]
  },
  {
   "cell_type": "code",
   "execution_count": 16,
   "id": "c7043b34-af2f-4322-abc3-77431000297d",
   "metadata": {
    "editable": true,
    "slideshow": {
     "slide_type": ""
    },
    "tags": []
   },
   "outputs": [],
   "source": [
    "stoi = {ch:i for i, ch in enumerate(chars)}\n",
    "itos = {i:ch for i, ch in enumerate(chars)}"
   ]
  },
  {
   "cell_type": "code",
   "execution_count": 17,
   "id": "4f5ec98a-fd45-4ae2-a9a5-d21b96a7b20e",
   "metadata": {
    "editable": true,
    "slideshow": {
     "slide_type": ""
    },
    "tags": []
   },
   "outputs": [],
   "source": [
    "encode = lambda s: [stoi[c] for c in s]\n",
    "decode = lambda l: ''.join([itos[i] for i in l])"
   ]
  },
  {
   "cell_type": "code",
   "execution_count": 18,
   "id": "7a946983-845d-4527-9a74-0e0165b3d310",
   "metadata": {
    "editable": true,
    "slideshow": {
     "slide_type": ""
    },
    "tags": []
   },
   "outputs": [
    {
     "data": {
      "text/plain": [
       "[46, 43, 50, 50, 53, 1, 61, 53, 56, 50, 42, 2]"
      ]
     },
     "execution_count": 18,
     "metadata": {},
     "output_type": "execute_result"
    }
   ],
   "source": [
    "encoded_test = encode(\"hello world!\")\n",
    "encoded_test"
   ]
  },
  {
   "cell_type": "code",
   "execution_count": 19,
   "id": "0db542cd-3a7d-48b9-97bf-09cc632b400f",
   "metadata": {
    "editable": true,
    "slideshow": {
     "slide_type": ""
    },
    "tags": []
   },
   "outputs": [
    {
     "data": {
      "text/plain": [
       "'hello world!'"
      ]
     },
     "execution_count": 19,
     "metadata": {},
     "output_type": "execute_result"
    }
   ],
   "source": [
    "decode(encoded_test)"
   ]
  },
  {
   "cell_type": "code",
   "execution_count": 20,
   "id": "66e89e70-ee94-4e3b-900f-7692367acf05",
   "metadata": {
    "editable": true,
    "slideshow": {
     "slide_type": ""
    },
    "tags": []
   },
   "outputs": [],
   "source": [
    "data = torch.tensor(encode(text), dtype=torch.long)\n",
    "n = int(0.9 * len(data))\n",
    "train_data = data[:n]\n",
    "val_data = data[n:]"
   ]
  },
  {
   "cell_type": "code",
   "execution_count": 21,
   "id": "bdb47967-024b-4385-9e17-84546baa44de",
   "metadata": {
    "editable": true,
    "slideshow": {
     "slide_type": ""
    },
    "tags": []
   },
   "outputs": [
    {
     "data": {
      "text/plain": [
       "tensor([18, 47, 56, 57, 58,  1, 15, 47, 58, 47, 64, 43, 52, 10,  0, 14, 43, 44,\n",
       "        53, 56, 43,  1, 61, 43,  1, 54, 56, 53, 41, 43, 43, 42,  1, 39, 52, 63,\n",
       "         1, 44, 59, 56, 58, 46, 43, 56,  6,  1, 46, 43, 39, 56,  1, 51, 43,  1,\n",
       "        57, 54, 43, 39, 49,  8,  0,  0, 13, 50, 50, 10,  0, 31, 54, 43, 39, 49,\n",
       "         6,  1, 57, 54, 43, 39, 49,  8,  0,  0, 18, 47, 56, 57, 58,  1, 15, 47,\n",
       "        58, 47, 64, 43, 52, 10,  0, 37, 53, 59,  1, 39, 56, 43,  1, 39, 50, 50,\n",
       "         1, 56, 43, 57, 53, 50, 60, 43, 42,  1, 56, 39, 58, 46, 43, 56,  1, 58,\n",
       "        53,  1, 42, 47, 43,  1, 58, 46, 39, 52,  1, 58, 53,  1, 44, 39, 51, 47,\n",
       "        57, 46, 12,  0,  0, 13, 50, 50, 10,  0, 30, 43, 57, 53, 50, 60, 43, 42,\n",
       "         8,  1, 56, 43, 57, 53, 50, 60, 43, 42,  8,  0,  0, 18, 47, 56, 57, 58,\n",
       "         1, 15, 47, 58, 47, 64, 43, 52, 10,  0, 18, 47, 56, 57, 58,  6,  1, 63,\n",
       "        53, 59,  1, 49, 52, 53, 61,  1, 15, 39, 47, 59, 57,  1, 25, 39, 56, 41,\n",
       "        47, 59, 57,  1, 47, 57,  1, 41, 46, 47, 43, 44,  1, 43, 52, 43, 51, 63,\n",
       "         1, 58, 53,  1, 58, 46, 43,  1, 54, 43, 53, 54, 50, 43,  8,  0,  0, 13,\n",
       "        50, 50, 10,  0, 35, 43,  1, 49, 52, 53, 61,  5, 58,  6,  1, 61, 43,  1,\n",
       "        49, 52, 53, 61,  5, 58,  8,  0,  0, 18, 47, 56, 57, 58,  1, 15, 47, 58,\n",
       "        47, 64, 43, 52, 10,  0, 24, 43, 58,  1, 59, 57,  1, 49, 47, 50, 50,  1,\n",
       "        46, 47, 51,  6,  1, 39, 52, 42,  1, 61, 43,  5, 50, 50,  1, 46, 39, 60,\n",
       "        43,  1, 41, 53, 56, 52,  1, 39, 58,  1, 53, 59, 56,  1, 53, 61, 52,  1,\n",
       "        54, 56, 47, 41, 43,  8,  0, 21, 57,  5, 58,  1, 39,  1, 60, 43, 56, 42,\n",
       "        47, 41, 58, 12,  0,  0, 13, 50, 50, 10,  0, 26, 53,  1, 51, 53, 56, 43,\n",
       "         1, 58, 39, 50, 49, 47, 52, 45,  1, 53, 52,  5, 58, 11,  1, 50, 43, 58,\n",
       "         1, 47, 58,  1, 40, 43,  1, 42, 53, 52, 43, 10,  1, 39, 61, 39, 63,  6,\n",
       "         1, 39, 61, 39, 63,  2,  0,  0, 31, 43, 41, 53, 52, 42,  1, 15, 47, 58,\n",
       "        47, 64, 43, 52, 10,  0, 27, 52, 43,  1, 61, 53, 56, 42,  6,  1, 45, 53,\n",
       "        53, 42,  1, 41, 47, 58, 47, 64, 43, 52, 57,  8,  0,  0, 18, 47, 56, 57,\n",
       "        58,  1, 15, 47, 58, 47, 64, 43, 52, 10,  0, 35, 43,  1, 39, 56, 43,  1,\n",
       "        39, 41, 41, 53, 59, 52, 58, 43, 42,  1, 54, 53, 53, 56,  1, 41, 47, 58,\n",
       "        47, 64, 43, 52, 57,  6,  1, 58, 46], device='cuda:0')"
      ]
     },
     "execution_count": 21,
     "metadata": {},
     "output_type": "execute_result"
    }
   ],
   "source": [
    "train_data[:block_size + 1]"
   ]
  },
  {
   "cell_type": "code",
   "execution_count": 22,
   "id": "2d164961-eaee-44cf-88ef-8b9bbc85ff3d",
   "metadata": {
    "editable": true,
    "slideshow": {
     "slide_type": ""
    },
    "tags": []
   },
   "outputs": [],
   "source": [
    "x = train_data[:block_size]\n",
    "y = train_data[1:block_size+1]"
   ]
  },
  {
   "cell_type": "markdown",
   "id": "215448f0-2e4d-44dd-a8d2-b0e1e1d3d1d7",
   "metadata": {},
   "source": [
    "## Generate Batch Data"
   ]
  },
  {
   "cell_type": "code",
   "execution_count": 23,
   "id": "3fdec0df-c784-41f3-9631-bd44c86db44b",
   "metadata": {},
   "outputs": [],
   "source": [
    "def get_batch(split):\n",
    "    data = train_data if split == 'train' else val_data\n",
    "    ix = torch.randint(len(data) - block_size, (batch_size,))\n",
    "    x = torch.stack([data[i:i+block_size] for i in ix])\n",
    "    y = torch.stack([data[i+1:i+block_size+1] for i in ix])\n",
    "    return x, y"
   ]
  },
  {
   "cell_type": "code",
   "execution_count": 24,
   "id": "c74652d9-faf7-4cc5-b231-e425a6226fff",
   "metadata": {},
   "outputs": [
    {
     "name": "stdout",
     "output_type": "stream",
     "text": [
      "inputs:\n",
      "torch.Size([64, 512])\n",
      "tensor([[50, 63,  1,  ..., 52, 53, 61],\n",
      "        [ 1, 58, 53,  ...,  1, 45, 53],\n",
      "        [50, 50,  1,  ..., 50,  6,  1],\n",
      "        [ 1, 61, 46,  ..., 61, 43,  1],\n",
      "        [58,  5, 57,  ..., 39, 56, 43]], device='cuda:0')\n",
      "targets:\n",
      "torch.Size([64, 512])\n",
      "tensor([[63,  1, 58,  ..., 53, 61,  6],\n",
      "        [58, 53, 51,  ..., 45, 53, 53],\n",
      "        [50,  1, 21,  ...,  6,  1, 58],\n",
      "        [61, 46, 47,  ..., 43,  1, 57],\n",
      "        [ 5, 57,  1,  ..., 56, 43,  1]], device='cuda:0')\n"
     ]
    }
   ],
   "source": [
    "xb, yb = get_batch('train')\n",
    "print('inputs:')\n",
    "print(xb.shape)\n",
    "print(xb[:5])\n",
    "print('targets:')\n",
    "print(yb.shape)\n",
    "print(yb[:5])"
   ]
  },
  {
   "cell_type": "code",
   "execution_count": 25,
   "id": "4711ae0b-e395-4750-be3f-77b0ba9cd356",
   "metadata": {},
   "outputs": [
    {
     "name": "stdout",
     "output_type": "stream",
     "text": [
      "input: tensor([50], device='cuda:0'), target: 63\n",
      "input: tensor([50, 63], device='cuda:0'), target: 1\n",
      "input: tensor([50, 63,  1], device='cuda:0'), target: 58\n",
      "input: tensor([50, 63,  1, 58], device='cuda:0'), target: 46\n",
      "input: tensor([50, 63,  1, 58, 46], device='cuda:0'), target: 39\n",
      "input: tensor([50, 63,  1, 58, 46, 39], device='cuda:0'), target: 52\n",
      "input: tensor([50, 63,  1, 58, 46, 39, 52], device='cuda:0'), target: 49\n",
      "input: tensor([50, 63,  1, 58, 46, 39, 52, 49], device='cuda:0'), target: 1\n"
     ]
    }
   ],
   "source": [
    "for t in range(8):\n",
    "    context = xb[0, :t+1]\n",
    "    target = yb[0, t]\n",
    "    print(f'input: {context}, target: {target}')"
   ]
  },
  {
   "cell_type": "markdown",
   "id": "97333a17-b8bd-4047-878c-a9b275582a41",
   "metadata": {},
   "source": [
    "## Neural Net"
   ]
  },
  {
   "cell_type": "code",
   "execution_count": 26,
   "id": "9d03ea8c-16ff-41a0-81d9-249a2cf3468e",
   "metadata": {},
   "outputs": [],
   "source": [
    "@torch.no_grad()\n",
    "def estimate_loss(model, eval_iters):\n",
    "    out = {}\n",
    "    model.eval()\n",
    "    for split in ['train', 'val']:\n",
    "        losses = torch.zeros(eval_iters)\n",
    "        for k in range(eval_iters):\n",
    "            X, Y = get_batch(split)\n",
    "            _, loss = model(X, Y)\n",
    "            losses[k] = loss.item()\n",
    "        out[split] = losses.mean().item()\n",
    "    model.train()\n",
    "    return out"
   ]
  },
  {
   "cell_type": "code",
   "execution_count": 27,
   "id": "fe00ce70-aa95-46cf-a5dc-f5f16b0ed3ad",
   "metadata": {},
   "outputs": [],
   "source": [
    "class Head(nn.Module):\n",
    "    def __init__(self, n_embd: int, head_size: int):\n",
    "        super().__init__()\n",
    "        self.key = nn.Linear(n_embd, head_size, bias=False)\n",
    "        self.query = nn.Linear(n_embd, head_size, bias=False)\n",
    "        self.value = nn.Linear(n_embd, head_size, bias=False)\n",
    "        self.register_buffer('tril', torch.tril(torch.ones(block_size, block_size)))\n",
    "        self.dropout = nn.Dropout(dropout)\n",
    "\n",
    "    def forward(self, x):\n",
    "        \"\"\"\n",
    "        Input: (B, T, C)\n",
    "        Ouput: (B, T, head_size)\n",
    "        \"\"\"\n",
    "        B, T, C = x.shape\n",
    "\n",
    "        k = self.key(x) # (B, T, head_size)\n",
    "        q = self.query(x) # (B, T, head_size)\n",
    "        v = self.value(x) # (B, T, head_size)\n",
    "\n",
    "        wei = q @ k.transpose(-2, -1) * (C**-0.5) # (B, T, head_size) @ (B, head_size, T) = (B, T, T)\n",
    "        wei = wei.masked_fill(self.tril[:T, :T] == 0, float('-inf')) # (B, T, T)\n",
    "        wei = F.softmax(wei, dim=-1) # (B, T, T)\n",
    "        wei = self.dropout(wei)\n",
    "        \n",
    "        out = wei @ v # (B, T, T) @ (B, T, head_size) = (B, T, head_size)\n",
    "        return out"
   ]
  },
  {
   "cell_type": "code",
   "execution_count": 28,
   "id": "c0d62742-c3a8-4dd0-9709-97adc4387ad7",
   "metadata": {},
   "outputs": [],
   "source": [
    "class MultiHeadAttention(nn.Module):\n",
    "    def __init__(self, n_embd: int, n_heads: int, head_size: int):\n",
    "        super().__init__()\n",
    "        self.heads = nn.ModuleList([Head(n_embd, head_size//n_heads) for _ in range(n_heads)])\n",
    "        self.proj = nn.Linear(head_size, head_size)\n",
    "        self.dropout = nn.Dropout(dropout)\n",
    "\n",
    "    def forward(self, x):\n",
    "        \"\"\"\n",
    "        Input: (B, T, C)\n",
    "        Ouput: (B, T, head_size)\n",
    "        \"\"\"\n",
    "        out = torch.cat([h(x) for h in self.heads], dim=-1)\n",
    "        out = self.proj(out)\n",
    "        out = self.dropout(out)\n",
    "        return out"
   ]
  },
  {
   "cell_type": "code",
   "execution_count": 29,
   "id": "2001aa70-5ad8-4bc7-b360-7afc1546ac77",
   "metadata": {},
   "outputs": [],
   "source": [
    "class FeedForward(nn.Module):\n",
    "    def __init__(self, head_size: int):\n",
    "        super().__init__()\n",
    "        self.net = nn.Sequential(\n",
    "            nn.Linear(head_size, head_size * 4),\n",
    "            nn.ReLU(),\n",
    "            nn.Linear(head_size * 4, head_size),\n",
    "            nn.Dropout(dropout),\n",
    "        )\n",
    "\n",
    "    def forward(self, x):\n",
    "        \"\"\"\n",
    "        Input: (B, T, head_size)\n",
    "        Ouput: (B, T, head_size)\n",
    "        \"\"\"\n",
    "        return self.net(x)"
   ]
  },
  {
   "cell_type": "code",
   "execution_count": 30,
   "id": "da68bb37-5b36-436d-9449-eacbf09b37e7",
   "metadata": {},
   "outputs": [],
   "source": [
    "class Block(nn.Module):\n",
    "    def __init__(self, n_embd: int, n_head: int, head_size: int):\n",
    "        super().__init__()\n",
    "        self.sa = MultiHeadAttention(n_embd, n_head, head_size)\n",
    "        self.ffwd = FeedForward(head_size)\n",
    "        self.ln1 = nn.LayerNorm(head_size)\n",
    "        self.ln2 = nn.LayerNorm(head_size)\n",
    "\n",
    "    def forward(self, x):\n",
    "        \"\"\"\n",
    "        Input: (B, T, C)\n",
    "        Ouput: (B, T, head_size)\n",
    "        \"\"\"\n",
    "        x = self.ln1(x)\n",
    "        x = x + self.sa(x) # (B, T, C) ---> (B, T, head_size)\n",
    "        x = self.ln2(x)\n",
    "        x = x + self.ffwd(x) # (B, T, head_size) ---> (B, T, head_size)\n",
    "        return x"
   ]
  },
  {
   "cell_type": "code",
   "execution_count": 31,
   "id": "02508505-675e-476a-90ca-8c5723c89d23",
   "metadata": {},
   "outputs": [],
   "source": [
    "class BigramLanguageModel(nn.Module):\n",
    "\n",
    "    def __init__(self, vocab_size: int, n_embd: int, n_head: int, head_size: int, n_layer: int) -> None:\n",
    "        super().__init__()\n",
    "        self.token_embedding_table = nn.Embedding(vocab_size, n_embd)\n",
    "        self.pos_embedding_table = nn.Embedding(block_size, n_embd)\n",
    "        self.blocks = nn.Sequential(*[Block(n_embd, n_head, head_size) for _ in range(n_layer)])\n",
    "        self.ln_f = nn.LayerNorm(head_size)\n",
    "        self.lm_head = nn.Linear(head_size, vocab_size)\n",
    "\n",
    "    def forward(self, idx, targets=None):\n",
    "        B, T = idx.shape\n",
    "        tok_emb = self.token_embedding_table(idx) # (B, T, C) batch, time, channel\n",
    "        pos_emb = self.pos_embedding_table(torch.arange(T)) # (T, C)\n",
    "        x = tok_emb + pos_emb\n",
    "        x = self.blocks(x)\n",
    "        logits = self.lm_head(x) # (B, T, vocab_size)\n",
    "\n",
    "        loss = None\n",
    "        if targets is not None:\n",
    "            B, T, C = logits.shape\n",
    "            targets = targets.view(B*T)\n",
    "            loss = F.cross_entropy(logits.view(B*T, C), targets)\n",
    "        return logits, loss\n",
    "\n",
    "    def generate(self, idx, max_new_tokens):\n",
    "        for _ in range(max_new_tokens):\n",
    "            idx_conx = idx[:, -block_size:]\n",
    "            logits, _ = self(idx_conx)\n",
    "            logits = logits[:, -1, :] # (B, C)\n",
    "            probs = F.softmax(logits, dim=-1) # (B, C)\n",
    "            idx_next = torch.multinomial(probs, num_samples=1) # (B, 1)\n",
    "            idx = torch.cat((idx, idx_next), dim=1)\n",
    "        return idx"
   ]
  },
  {
   "cell_type": "code",
   "execution_count": 32,
   "id": "ccf9b76c-7d0f-4006-a1d6-339c2f5766b3",
   "metadata": {},
   "outputs": [],
   "source": [
    "m = BigramLanguageModel(vocab_size, embedding_size, num_heads, head_size, n_layer)\n",
    "if should_compile:\n",
    "    m = torch.compile(m)"
   ]
  },
  {
   "cell_type": "code",
   "execution_count": 33,
   "id": "8876308c-6937-4dcc-b409-693b0f8e5b4c",
   "metadata": {},
   "outputs": [
    {
     "name": "stdout",
     "output_type": "stream",
     "text": [
      "10.89M parameters\n"
     ]
    }
   ],
   "source": [
    "num_params = sum(p.numel() for p in m.parameters())\n",
    "print(\"{num_params:.2f}M parameters\".format(num_params=num_params/1e6))"
   ]
  },
  {
   "cell_type": "code",
   "execution_count": 34,
   "id": "96e2026a-0ec1-467a-9610-d2e1a4ac7c1b",
   "metadata": {},
   "outputs": [
    {
     "name": "stdout",
     "output_type": "stream",
     "text": [
      "logits shape: torch.Size([64, 512, 65])\n",
      "loss: 4.415844440460205\n"
     ]
    }
   ],
   "source": [
    "logits, loss = m(xb, yb)\n",
    "print(f\"logits shape: {logits.shape}\")\n",
    "print(f\"loss: {loss}\")"
   ]
  },
  {
   "cell_type": "code",
   "execution_count": 35,
   "id": "ec2a8d20-6e1f-4e8d-9b1b-22d72ea67186",
   "metadata": {
    "scrolled": true
   },
   "outputs": [
    {
     "name": "stdout",
     "output_type": "stream",
     "text": [
      "\n",
      " LlQl3SKIdkma,AHA?tpZ$kJrK&DUpYVudlPxQj,-lr$Jq;'!z:vyvhvrh!K?j'vaiA;xlb.AJGtpLkt$CjMHQfp,fcs.kmWDmah\n"
     ]
    }
   ],
   "source": [
    "idx = torch.zeros((1, 1), dtype=torch.long)\n",
    "generated = m.generate(idx, max_new_tokens=100)\n",
    "print(decode(generated[0].tolist()))"
   ]
  },
  {
   "cell_type": "code",
   "execution_count": 36,
   "id": "f7e07b71-bcf0-4e51-b04a-8db5ac29b399",
   "metadata": {},
   "outputs": [
    {
     "data": {
      "text/plain": [
       "{'train': 4.420478820800781, 'val': 4.426550388336182}"
      ]
     },
     "execution_count": 36,
     "metadata": {},
     "output_type": "execute_result"
    }
   ],
   "source": [
    "estimate_loss(m, loss_est_n_batch)"
   ]
  },
  {
   "cell_type": "markdown",
   "id": "db36b1ca-6e08-4b00-8350-8a6337e763f0",
   "metadata": {},
   "source": [
    "## Training"
   ]
  },
  {
   "cell_type": "code",
   "execution_count": 37,
   "id": "ab7a0fca-c2f2-4fee-88dd-450b92ffe07f",
   "metadata": {},
   "outputs": [],
   "source": [
    "optimizer = torch.optim.AdamW(m.parameters(), lr=1e-3)"
   ]
  },
  {
   "cell_type": "code",
   "execution_count": 38,
   "id": "e50c4ac1-e4ad-4ffa-a73e-2efecf99e9eb",
   "metadata": {},
   "outputs": [],
   "source": [
    "train_step = 0"
   ]
  },
  {
   "cell_type": "code",
   "execution_count": null,
   "id": "0c71b7d5-36ee-4faa-a045-f4b3eed09709",
   "metadata": {
    "scrolled": true
   },
   "outputs": [
    {
     "name": "stdout",
     "output_type": "stream",
     "text": [
      "Step 1: train_loss=5.52438, val_loss=5.58150, dur=2.63s\n"
     ]
    }
   ],
   "source": [
    "start = time.time()\n",
    "for _ in range(max_iters):\n",
    "    train_step += 1\n",
    "    xb, yb = get_batch('train')\n",
    "    logits, loss = m(xb, yb)\n",
    "    optimizer.zero_grad(set_to_none=True)\n",
    "    loss.backward()\n",
    "    optimizer.step()\n",
    "    if train_step <= 1 or train_step % eval_interval == 0:\n",
    "        batch_loss = estimate_loss(m, loss_est_n_batch)\n",
    "        print(\"Step {step}: train_loss={train:.5f}, val_loss={val:.5f}, dur={dur:.2f}s\".format(step=train_step, train=batch_loss['train'], val=batch_loss['val'], dur=time.time() - start))"
   ]
  },
  {
   "cell_type": "code",
   "execution_count": null,
   "id": "53df8065-af7d-4179-b9a8-06b6dbe378ea",
   "metadata": {},
   "outputs": [],
   "source": [
    "dropout_text = \"{dropout:.1f}\".format(dropout=dropout).replace(\".\", \"_\")\n",
    "ts = datetime.now().strftime(\"%Y%m%dT%H%M%S\")\n",
    "model_save_path = f\"model/{block_size}_{n_layer}x{num_heads}x{embedding_size}_{dropout_text}_iter{train_step}_{ts}.pt\""
   ]
  },
  {
   "cell_type": "code",
   "execution_count": null,
   "id": "af26a90c-c574-4a6f-81f6-f5d95f278bbf",
   "metadata": {},
   "outputs": [],
   "source": [
    "torch.save(m.state_dict(), model_save_path)\n",
    "print(f\"Model saved to {model_save_path}\")"
   ]
  },
  {
   "cell_type": "code",
   "execution_count": null,
   "id": "fbf8ea44-65cf-42a3-8cce-69e772a7f9ff",
   "metadata": {
    "scrolled": true
   },
   "outputs": [],
   "source": [
    "start_text = \"\\n\"\n",
    "idx = torch.tensor(np.array(encode(start_text)), dtype=torch.long).view(1, len(start_text))\n",
    "m.eval()\n",
    "generated = m.generate(idx, max_new_tokens=500)\n",
    "m.train()\n",
    "print(decode(generated[0].tolist()))"
   ]
  },
  {
   "cell_type": "code",
   "execution_count": null,
   "id": "6ff95194-161d-442b-8312-355b886621dc",
   "metadata": {},
   "outputs": [],
   "source": []
  }
 ],
 "metadata": {
  "kernelspec": {
   "display_name": "Python 3 (ipykernel)",
   "language": "python",
   "name": "python3"
  },
  "language_info": {
   "codemirror_mode": {
    "name": "ipython",
    "version": 3
   },
   "file_extension": ".py",
   "mimetype": "text/x-python",
   "name": "python",
   "nbconvert_exporter": "python",
   "pygments_lexer": "ipython3",
   "version": "3.11.4"
  }
 },
 "nbformat": 4,
 "nbformat_minor": 5
}
