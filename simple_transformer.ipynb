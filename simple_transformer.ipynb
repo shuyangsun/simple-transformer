{
 "cells": [
  {
   "cell_type": "markdown",
   "id": "08bf62a1-5928-402a-8c6e-c16f57b1785f",
   "metadata": {
    "editable": true,
    "slideshow": {
     "slide_type": ""
    },
    "tags": []
   },
   "source": [
    "# Simple Transformer"
   ]
  },
  {
   "cell_type": "code",
   "execution_count": 1,
   "id": "824a1833-c1f9-47bf-96ca-c69696240d67",
   "metadata": {},
   "outputs": [],
   "source": [
    "import sys\n",
    "import time\n",
    "import torch\n",
    "import torch.nn as nn\n",
    "import numpy as np\n",
    "\n",
    "from datetime import datetime\n",
    "from torch.nn import functional as F"
   ]
  },
  {
   "cell_type": "code",
   "execution_count": 2,
   "id": "80ff43f7-2073-4da1-b665-5e0114026197",
   "metadata": {},
   "outputs": [
    {
     "data": {
      "text/plain": [
       "<torch._C.Generator at 0x7f64144f9670>"
      ]
     },
     "execution_count": 2,
     "metadata": {},
     "output_type": "execute_result"
    }
   ],
   "source": [
    "torch.manual_seed(1337)"
   ]
  },
  {
   "cell_type": "markdown",
   "id": "8730624c-8aeb-4411-859b-5f15e0e7063d",
   "metadata": {},
   "source": [
    "## Constants"
   ]
  },
  {
   "cell_type": "code",
   "execution_count": 3,
   "id": "5ffa7fa2-4f21-4bd0-aee3-bb68c051ca91",
   "metadata": {},
   "outputs": [],
   "source": [
    "batch_size = 24\n",
    "block_size = 1024\n",
    "max_iters = 5000\n",
    "eval_interval = 500\n",
    "learning_rate = 3e-4\n",
    "loss_est_n_batch = 50\n",
    "\n",
    "embedding_size = 384\n",
    "num_heads = 6\n",
    "head_size = embedding_size\n",
    "n_layer = 6\n",
    "dropout = 0.3"
   ]
  },
  {
   "cell_type": "markdown",
   "id": "431b78bb-3c81-48f2-8119-9865dba37740",
   "metadata": {},
   "source": [
    "## Hardware"
   ]
  },
  {
   "cell_type": "code",
   "execution_count": 4,
   "id": "3bd5b377-251d-4c55-b88f-b30c20176881",
   "metadata": {},
   "outputs": [
    {
     "name": "stdout",
     "output_type": "stream",
     "text": [
      "CUDA available: True\n",
      "  * GPU count: 1\n",
      "mps available: False\n"
     ]
    }
   ],
   "source": [
    "has_cuda = torch.cuda.is_available() and torch.backends.cuda.is_built()\n",
    "has_mps = torch.backends.mps.is_available() and torch.backends.mps.is_built()\n",
    "print(f'CUDA available: {has_cuda}')\n",
    "if has_cuda:\n",
    "    print(f'  * GPU count: {torch.cuda.device_count()}')\n",
    "print(f'mps available: {has_mps}')"
   ]
  },
  {
   "cell_type": "code",
   "execution_count": 5,
   "id": "905731da-df5a-4a80-9d11-127abf3955bb",
   "metadata": {},
   "outputs": [],
   "source": [
    "device = \"cpu\"\n",
    "if has_cuda:\n",
    "    device = \"cuda\"\n",
    "elif has_mps:\n",
    "    device = \"mps\"\n",
    "torch.set_default_device(device)"
   ]
  },
  {
   "cell_type": "code",
   "execution_count": 6,
   "id": "48420e27-ff3d-4382-b155-d8fb0773dd27",
   "metadata": {},
   "outputs": [
    {
     "data": {
      "text/plain": [
       "'cuda'"
      ]
     },
     "execution_count": 6,
     "metadata": {},
     "output_type": "execute_result"
    }
   ],
   "source": [
    "device"
   ]
  },
  {
   "cell_type": "code",
   "execution_count": 7,
   "id": "46f9f144-26b0-4e22-8b9c-692e1e686b1a",
   "metadata": {},
   "outputs": [
    {
     "name": "stdout",
     "output_type": "stream",
     "text": [
      "Should compile: True\n"
     ]
    }
   ],
   "source": [
    "should_compile = True\n",
    "if sys.platform == \"win32\":\n",
    "    should_compile = False\n",
    "print(f\"Should compile: {should_compile}\")"
   ]
  },
  {
   "cell_type": "markdown",
   "id": "4f85ec51-90ef-4b4b-a2ff-c1bf543f7ca6",
   "metadata": {},
   "source": [
    "## Training Data"
   ]
  },
  {
   "cell_type": "code",
   "execution_count": 8,
   "id": "65c599f6-f74b-46db-a842-c6bb2a226328",
   "metadata": {
    "editable": true,
    "slideshow": {
     "slide_type": ""
    },
    "tags": []
   },
   "outputs": [],
   "source": [
    "with open('data/tiny_shakespeare.txt', 'r', encoding='utf-8') as input:\n",
    "    text = input.read()"
   ]
  },
  {
   "cell_type": "code",
   "execution_count": 9,
   "id": "dd4911a3-6700-4eca-abb8-4c327bf7239b",
   "metadata": {
    "editable": true,
    "slideshow": {
     "slide_type": ""
    },
    "tags": []
   },
   "outputs": [
    {
     "name": "stdout",
     "output_type": "stream",
     "text": [
      "Number of characters in text: 1115394\n"
     ]
    }
   ],
   "source": [
    "print(f'Number of characters in text: {len(text)}')"
   ]
  },
  {
   "cell_type": "code",
   "execution_count": 10,
   "id": "d5b86014-9743-4b65-bcd1-a161d1470d99",
   "metadata": {
    "editable": true,
    "slideshow": {
     "slide_type": ""
    },
    "tags": []
   },
   "outputs": [
    {
     "name": "stdout",
     "output_type": "stream",
     "text": [
      "First 100 chars:\n",
      "\n",
      "```\n",
      "First Citizen:\n",
      "Before we proceed any further, hear me speak.\n",
      "\n",
      "All:\n",
      "Speak, speak.\n",
      "\n",
      "First Citizen:\n",
      "You\n",
      "```\n"
     ]
    }
   ],
   "source": [
    "print(f'First 100 chars:\\n\\n```\\n{text[:100]}\\n```')"
   ]
  },
  {
   "cell_type": "code",
   "execution_count": 11,
   "id": "ecffa6ea-06e7-47f8-a59d-0e5a18aa0d52",
   "metadata": {},
   "outputs": [],
   "source": [
    "words = text.split(\" \")"
   ]
  },
  {
   "cell_type": "code",
   "execution_count": 12,
   "id": "b9d7d2a0-5cda-4385-9b1b-3ebb6f906fea",
   "metadata": {},
   "outputs": [
    {
     "data": {
      "text/plain": [
       "169893"
      ]
     },
     "execution_count": 12,
     "metadata": {},
     "output_type": "execute_result"
    }
   ],
   "source": [
    "len(words)"
   ]
  },
  {
   "cell_type": "code",
   "execution_count": 13,
   "id": "f1a4ef4e-a63e-4447-8bda-2340133535b3",
   "metadata": {
    "editable": true,
    "slideshow": {
     "slide_type": ""
    },
    "tags": []
   },
   "outputs": [],
   "source": [
    "chars = sorted(list(set(text)))\n",
    "vocab_size = len(chars)"
   ]
  },
  {
   "cell_type": "code",
   "execution_count": 14,
   "id": "8012e7c3-b659-4940-974d-154b2fe40b30",
   "metadata": {
    "editable": true,
    "slideshow": {
     "slide_type": ""
    },
    "tags": []
   },
   "outputs": [
    {
     "data": {
      "text/plain": [
       "65"
      ]
     },
     "execution_count": 14,
     "metadata": {},
     "output_type": "execute_result"
    }
   ],
   "source": [
    "vocab_size"
   ]
  },
  {
   "cell_type": "code",
   "execution_count": 15,
   "id": "a342dc4b-d14a-44c6-8e93-cdc2d71853c5",
   "metadata": {
    "editable": true,
    "slideshow": {
     "slide_type": ""
    },
    "tags": []
   },
   "outputs": [
    {
     "data": {
      "text/plain": [
       "\"\\n !$&',-.3:;?ABCDEFGHIJKLMNOPQRSTUVWXYZabcdefghijklmnopqrstuvwxyz\""
      ]
     },
     "execution_count": 15,
     "metadata": {},
     "output_type": "execute_result"
    }
   ],
   "source": [
    "''.join(chars)"
   ]
  },
  {
   "cell_type": "code",
   "execution_count": 16,
   "id": "c7043b34-af2f-4322-abc3-77431000297d",
   "metadata": {
    "editable": true,
    "slideshow": {
     "slide_type": ""
    },
    "tags": []
   },
   "outputs": [],
   "source": [
    "stoi = {ch:i for i, ch in enumerate(chars)}\n",
    "itos = {i:ch for i, ch in enumerate(chars)}"
   ]
  },
  {
   "cell_type": "code",
   "execution_count": 17,
   "id": "4f5ec98a-fd45-4ae2-a9a5-d21b96a7b20e",
   "metadata": {
    "editable": true,
    "slideshow": {
     "slide_type": ""
    },
    "tags": []
   },
   "outputs": [],
   "source": [
    "encode = lambda s: [stoi[c] for c in s]\n",
    "decode = lambda l: ''.join([itos[i] for i in l])"
   ]
  },
  {
   "cell_type": "code",
   "execution_count": 18,
   "id": "7a946983-845d-4527-9a74-0e0165b3d310",
   "metadata": {
    "editable": true,
    "slideshow": {
     "slide_type": ""
    },
    "tags": []
   },
   "outputs": [
    {
     "data": {
      "text/plain": [
       "[46, 43, 50, 50, 53, 1, 61, 53, 56, 50, 42, 2]"
      ]
     },
     "execution_count": 18,
     "metadata": {},
     "output_type": "execute_result"
    }
   ],
   "source": [
    "encoded_test = encode(\"hello world!\")\n",
    "encoded_test"
   ]
  },
  {
   "cell_type": "code",
   "execution_count": 19,
   "id": "0db542cd-3a7d-48b9-97bf-09cc632b400f",
   "metadata": {
    "editable": true,
    "slideshow": {
     "slide_type": ""
    },
    "tags": []
   },
   "outputs": [
    {
     "data": {
      "text/plain": [
       "'hello world!'"
      ]
     },
     "execution_count": 19,
     "metadata": {},
     "output_type": "execute_result"
    }
   ],
   "source": [
    "decode(encoded_test)"
   ]
  },
  {
   "cell_type": "code",
   "execution_count": 20,
   "id": "66e89e70-ee94-4e3b-900f-7692367acf05",
   "metadata": {
    "editable": true,
    "slideshow": {
     "slide_type": ""
    },
    "tags": []
   },
   "outputs": [],
   "source": [
    "data = torch.tensor(encode(text), dtype=torch.long)\n",
    "n = int(0.9 * len(data))\n",
    "train_data = data[:n]\n",
    "val_data = data[n:]"
   ]
  },
  {
   "cell_type": "code",
   "execution_count": 21,
   "id": "bdb47967-024b-4385-9e17-84546baa44de",
   "metadata": {
    "editable": true,
    "slideshow": {
     "slide_type": ""
    },
    "tags": []
   },
   "outputs": [
    {
     "data": {
      "text/plain": [
       "tensor([18, 47, 56,  ..., 63, 53, 59], device='cuda:0')"
      ]
     },
     "execution_count": 21,
     "metadata": {},
     "output_type": "execute_result"
    }
   ],
   "source": [
    "train_data[:block_size + 1]"
   ]
  },
  {
   "cell_type": "code",
   "execution_count": 22,
   "id": "2d164961-eaee-44cf-88ef-8b9bbc85ff3d",
   "metadata": {
    "editable": true,
    "slideshow": {
     "slide_type": ""
    },
    "tags": []
   },
   "outputs": [],
   "source": [
    "x = train_data[:block_size]\n",
    "y = train_data[1:block_size+1]"
   ]
  },
  {
   "cell_type": "markdown",
   "id": "215448f0-2e4d-44dd-a8d2-b0e1e1d3d1d7",
   "metadata": {},
   "source": [
    "## Generate Batch Data"
   ]
  },
  {
   "cell_type": "code",
   "execution_count": 23,
   "id": "3fdec0df-c784-41f3-9631-bd44c86db44b",
   "metadata": {},
   "outputs": [],
   "source": [
    "def get_batch(split):\n",
    "    data = train_data if split == 'train' else val_data\n",
    "    ix = torch.randint(len(data) - block_size, (batch_size,))\n",
    "    x = torch.stack([data[i:i+block_size] for i in ix])\n",
    "    y = torch.stack([data[i+1:i+block_size+1] for i in ix])\n",
    "    return x, y"
   ]
  },
  {
   "cell_type": "code",
   "execution_count": 24,
   "id": "c74652d9-faf7-4cc5-b231-e425a6226fff",
   "metadata": {},
   "outputs": [
    {
     "name": "stdout",
     "output_type": "stream",
     "text": [
      "inputs:\n",
      "torch.Size([24, 1024])\n",
      "tensor([[17, 26, 17,  ...,  1, 40, 43],\n",
      "        [43, 47, 64,  ..., 41, 53, 52],\n",
      "        [52, 43,  0,  ..., 58, 11,  1],\n",
      "        [53, 59, 50,  ..., 59, 57, 10],\n",
      "        [53, 52, 43,  ...,  0, 20, 53]], device='cuda:0')\n",
      "targets:\n",
      "torch.Size([24, 1024])\n",
      "tensor([[26, 17, 31,  ..., 40, 43, 58],\n",
      "        [47, 64, 43,  ..., 53, 52, 42],\n",
      "        [43,  0, 32,  ..., 11,  1, 41],\n",
      "        [59, 50, 57,  ..., 57, 10,  0],\n",
      "        [52, 43,  1,  ..., 20, 53, 61]], device='cuda:0')\n"
     ]
    }
   ],
   "source": [
    "xb, yb = get_batch('train')\n",
    "print('inputs:')\n",
    "print(xb.shape)\n",
    "print(xb[:5])\n",
    "print('targets:')\n",
    "print(yb.shape)\n",
    "print(yb[:5])"
   ]
  },
  {
   "cell_type": "code",
   "execution_count": 25,
   "id": "4711ae0b-e395-4750-be3f-77b0ba9cd356",
   "metadata": {},
   "outputs": [
    {
     "name": "stdout",
     "output_type": "stream",
     "text": [
      "input: tensor([17], device='cuda:0'), target: 26\n",
      "input: tensor([17, 26], device='cuda:0'), target: 17\n",
      "input: tensor([17, 26, 17], device='cuda:0'), target: 31\n",
      "input: tensor([17, 26, 17, 31], device='cuda:0'), target: 10\n",
      "input: tensor([17, 26, 17, 31, 10], device='cuda:0'), target: 0\n",
      "input: tensor([17, 26, 17, 31, 10,  0], device='cuda:0'), target: 13\n",
      "input: tensor([17, 26, 17, 31, 10,  0, 13], device='cuda:0'), target: 1\n",
      "input: tensor([17, 26, 17, 31, 10,  0, 13,  1], device='cuda:0'), target: 57\n"
     ]
    }
   ],
   "source": [
    "for t in range(8):\n",
    "    context = xb[0, :t+1]\n",
    "    target = yb[0, t]\n",
    "    print(f'input: {context}, target: {target}')"
   ]
  },
  {
   "cell_type": "markdown",
   "id": "97333a17-b8bd-4047-878c-a9b275582a41",
   "metadata": {},
   "source": [
    "## Neural Net"
   ]
  },
  {
   "cell_type": "code",
   "execution_count": 26,
   "id": "ae3eadab-e352-4eb4-ad83-f8b902b33560",
   "metadata": {},
   "outputs": [],
   "source": [
    "scalar = None\n",
    "if has_cuda:\n",
    "    scalar = torch.cuda.amp.GradScaler()"
   ]
  },
  {
   "cell_type": "code",
   "execution_count": 27,
   "id": "9d03ea8c-16ff-41a0-81d9-249a2cf3468e",
   "metadata": {},
   "outputs": [],
   "source": [
    "@torch.no_grad()\n",
    "def estimate_loss(model, eval_iters):\n",
    "    out = {}\n",
    "    model.eval()\n",
    "    for split in ['train', 'val']:\n",
    "        losses = torch.zeros(eval_iters)\n",
    "        for k in range(eval_iters):\n",
    "            X, Y = get_batch(split)\n",
    "            if scalar is None:\n",
    "                _, loss = model(X, Y)\n",
    "            else:\n",
    "                with torch.cuda.amp.autocast():\n",
    "                    _, loss = model(X, Y)\n",
    "            losses[k] = loss.item()\n",
    "        out[split] = losses.mean().item()\n",
    "    model.train()\n",
    "    return out"
   ]
  },
  {
   "cell_type": "code",
   "execution_count": 28,
   "id": "fe00ce70-aa95-46cf-a5dc-f5f16b0ed3ad",
   "metadata": {},
   "outputs": [],
   "source": [
    "class Head(nn.Module):\n",
    "    def __init__(self, n_embd: int, head_size: int):\n",
    "        super().__init__()\n",
    "        self.key = nn.Linear(n_embd, head_size, bias=False)\n",
    "        self.query = nn.Linear(n_embd, head_size, bias=False)\n",
    "        self.value = nn.Linear(n_embd, head_size, bias=False)\n",
    "        self.register_buffer('tril', torch.tril(torch.ones(block_size, block_size)))\n",
    "        self.dropout = nn.Dropout(dropout)\n",
    "\n",
    "    def forward(self, x):\n",
    "        \"\"\"\n",
    "        Input: (B, T, C)\n",
    "        Ouput: (B, T, head_size)\n",
    "        \"\"\"\n",
    "        B, T, C = x.shape\n",
    "\n",
    "        k = self.key(x) # (B, T, head_size)\n",
    "        q = self.query(x) # (B, T, head_size)\n",
    "        v = self.value(x) # (B, T, head_size)\n",
    "\n",
    "        wei = q @ k.transpose(-2, -1) * (C**-0.5) # (B, T, head_size) @ (B, head_size, T) = (B, T, T)\n",
    "        wei = wei.masked_fill(self.tril[:T, :T] == 0, float('-inf')) # (B, T, T)\n",
    "        wei = F.softmax(wei, dim=-1) # (B, T, T)\n",
    "        wei = self.dropout(wei)\n",
    "        \n",
    "        out = wei @ v # (B, T, T) @ (B, T, head_size) = (B, T, head_size)\n",
    "        return out"
   ]
  },
  {
   "cell_type": "code",
   "execution_count": 29,
   "id": "c0d62742-c3a8-4dd0-9709-97adc4387ad7",
   "metadata": {},
   "outputs": [],
   "source": [
    "class MultiHeadAttention(nn.Module):\n",
    "    def __init__(self, n_embd: int, n_heads: int, head_size: int):\n",
    "        super().__init__()\n",
    "        self.heads = nn.ModuleList([Head(n_embd, head_size//n_heads) for _ in range(n_heads)])\n",
    "        self.proj = nn.Linear(head_size, head_size)\n",
    "        self.dropout = nn.Dropout(dropout)\n",
    "\n",
    "    def forward(self, x):\n",
    "        \"\"\"\n",
    "        Input: (B, T, C)\n",
    "        Ouput: (B, T, head_size)\n",
    "        \"\"\"\n",
    "        out = torch.cat([h(x) for h in self.heads], dim=-1)\n",
    "        out = self.proj(out)\n",
    "        out = self.dropout(out)\n",
    "        return out"
   ]
  },
  {
   "cell_type": "code",
   "execution_count": 30,
   "id": "2001aa70-5ad8-4bc7-b360-7afc1546ac77",
   "metadata": {},
   "outputs": [],
   "source": [
    "class FeedForward(nn.Module):\n",
    "    def __init__(self, head_size: int):\n",
    "        super().__init__()\n",
    "        self.net = nn.Sequential(\n",
    "            nn.Linear(head_size, head_size * 4),\n",
    "            nn.ReLU(),\n",
    "            nn.Linear(head_size * 4, head_size),\n",
    "            nn.Dropout(dropout),\n",
    "        )\n",
    "\n",
    "    def forward(self, x):\n",
    "        \"\"\"\n",
    "        Input: (B, T, head_size)\n",
    "        Ouput: (B, T, head_size)\n",
    "        \"\"\"\n",
    "        return self.net(x)"
   ]
  },
  {
   "cell_type": "code",
   "execution_count": 31,
   "id": "da68bb37-5b36-436d-9449-eacbf09b37e7",
   "metadata": {},
   "outputs": [],
   "source": [
    "class Block(nn.Module):\n",
    "    def __init__(self, n_embd: int, n_head: int, head_size: int):\n",
    "        super().__init__()\n",
    "        self.sa = MultiHeadAttention(n_embd, n_head, head_size)\n",
    "        self.ffwd = FeedForward(head_size)\n",
    "        self.ln1 = nn.LayerNorm(head_size)\n",
    "        self.ln2 = nn.LayerNorm(head_size)\n",
    "\n",
    "    def forward(self, x):\n",
    "        \"\"\"\n",
    "        Input: (B, T, C)\n",
    "        Ouput: (B, T, head_size)\n",
    "        \"\"\"\n",
    "        x = self.ln1(x)\n",
    "        x = x + self.sa(x) # (B, T, C) ---> (B, T, head_size)\n",
    "        x = self.ln2(x)\n",
    "        x = x + self.ffwd(x) # (B, T, head_size) ---> (B, T, head_size)\n",
    "        return x"
   ]
  },
  {
   "cell_type": "code",
   "execution_count": 32,
   "id": "02508505-675e-476a-90ca-8c5723c89d23",
   "metadata": {},
   "outputs": [],
   "source": [
    "class BigramLanguageModel(nn.Module):\n",
    "\n",
    "    def __init__(self, vocab_size: int, n_embd: int, n_head: int, head_size: int, n_layer: int) -> None:\n",
    "        super().__init__()\n",
    "        self.token_embedding_table = nn.Embedding(vocab_size, n_embd)\n",
    "        self.pos_embedding_table = nn.Embedding(block_size, n_embd)\n",
    "        self.blocks = nn.Sequential(*[Block(n_embd, n_head, head_size) for _ in range(n_layer)])\n",
    "        self.ln_f = nn.LayerNorm(head_size)\n",
    "        self.lm_head = nn.Linear(head_size, vocab_size)\n",
    "\n",
    "    def forward(self, idx, targets=None):\n",
    "        B, T = idx.shape\n",
    "        tok_emb = self.token_embedding_table(idx) # (B, T, C) batch, time, channel\n",
    "        pos_emb = self.pos_embedding_table(torch.arange(T)) # (T, C)\n",
    "        x = tok_emb + pos_emb\n",
    "        x = self.blocks(x)\n",
    "        logits = self.lm_head(x) # (B, T, vocab_size)\n",
    "\n",
    "        loss = None\n",
    "        if targets is not None:\n",
    "            B, T, C = logits.shape\n",
    "            targets = targets.view(B*T)\n",
    "            loss = F.cross_entropy(logits.view(B*T, C), targets)\n",
    "        return logits, loss\n",
    "\n",
    "    def generate(self, idx, max_new_tokens):\n",
    "        for _ in range(max_new_tokens):\n",
    "            idx_conx = idx[:, -block_size:]\n",
    "            if scalar is not None:\n",
    "                logits, _ = self(idx_conx)\n",
    "            else:\n",
    "                with torch.cuda.amp.autocast():\n",
    "                    logits, _ = self(idx_conx)\n",
    "            logits = logits[:, -1, :] # (B, C)\n",
    "            probs = F.softmax(logits, dim=-1) # (B, C)\n",
    "            idx_next = torch.multinomial(probs, num_samples=1) # (B, 1)\n",
    "            idx = torch.cat((idx, idx_next), dim=1)\n",
    "        return idx"
   ]
  },
  {
   "cell_type": "code",
   "execution_count": 33,
   "id": "ccf9b76c-7d0f-4006-a1d6-339c2f5766b3",
   "metadata": {},
   "outputs": [],
   "source": [
    "m = BigramLanguageModel(vocab_size, embedding_size, num_heads, head_size, n_layer)"
   ]
  },
  {
   "cell_type": "code",
   "execution_count": 34,
   "id": "1e7fb570-5734-4054-91f4-fc351c171c16",
   "metadata": {},
   "outputs": [],
   "source": [
    "torch.set_float32_matmul_precision('medium')\n",
    "if should_compile:\n",
    "    m = torch.compile(m)"
   ]
  },
  {
   "cell_type": "code",
   "execution_count": 35,
   "id": "8876308c-6937-4dcc-b409-693b0f8e5b4c",
   "metadata": {},
   "outputs": [
    {
     "name": "stdout",
     "output_type": "stream",
     "text": [
      "11.08M parameters\n"
     ]
    }
   ],
   "source": [
    "num_params = sum(p.numel() for p in m.parameters())\n",
    "print(\"{num_params:.2f}M parameters\".format(num_params=num_params/1e6))"
   ]
  },
  {
   "cell_type": "code",
   "execution_count": 36,
   "id": "96e2026a-0ec1-467a-9610-d2e1a4ac7c1b",
   "metadata": {},
   "outputs": [
    {
     "name": "stdout",
     "output_type": "stream",
     "text": [
      "logits shape: torch.Size([24, 1024, 65])\n",
      "loss: 4.404087066650391\n"
     ]
    }
   ],
   "source": [
    "logits, loss = m(xb, yb)\n",
    "print(f\"logits shape: {logits.shape}\")\n",
    "print(f\"loss: {loss}\")"
   ]
  },
  {
   "cell_type": "code",
   "execution_count": 37,
   "id": "ec2a8d20-6e1f-4e8d-9b1b-22d72ea67186",
   "metadata": {},
   "outputs": [
    {
     "name": "stdout",
     "output_type": "stream",
     "text": [
      "\n",
      "QHATp'EVfB3olZ3K;xvcx\n",
      "HNHWBvBUcD.&-EskAlN?WSNuwAaBs;qfcAHq$B?CxcUc,MYJkM&XhL3!3v,:mXGOlD\n",
      "fjKNf;xOp3j\n"
     ]
    }
   ],
   "source": [
    "idx = torch.zeros((1, 1), dtype=torch.long)\n",
    "generated = m.generate(idx, max_new_tokens=100)\n",
    "print(decode(generated[0].tolist()))"
   ]
  },
  {
   "cell_type": "code",
   "execution_count": 38,
   "id": "f7e07b71-bcf0-4e51-b04a-8db5ac29b399",
   "metadata": {},
   "outputs": [
    {
     "data": {
      "text/plain": [
       "{'train': 4.41819429397583, 'val': 4.421832084655762}"
      ]
     },
     "execution_count": 38,
     "metadata": {},
     "output_type": "execute_result"
    }
   ],
   "source": [
    "estimate_loss(m, loss_est_n_batch)"
   ]
  },
  {
   "cell_type": "markdown",
   "id": "db36b1ca-6e08-4b00-8350-8a6337e763f0",
   "metadata": {},
   "source": [
    "## Training"
   ]
  },
  {
   "cell_type": "code",
   "execution_count": 39,
   "id": "ab7a0fca-c2f2-4fee-88dd-450b92ffe07f",
   "metadata": {},
   "outputs": [],
   "source": [
    "optimizer = torch.optim.AdamW(m.parameters(), lr=1e-3)"
   ]
  },
  {
   "cell_type": "code",
   "execution_count": 40,
   "id": "e50c4ac1-e4ad-4ffa-a73e-2efecf99e9eb",
   "metadata": {},
   "outputs": [],
   "source": [
    "train_step = 0"
   ]
  },
  {
   "cell_type": "code",
   "execution_count": 41,
   "id": "521d7829-1e23-440f-892a-b7ad44547434",
   "metadata": {},
   "outputs": [],
   "source": [
    "def save_model(model, train_step, should_print=False, save_half=False):\n",
    "    dropout_text = \"{dropout:.1f}\".format(dropout=dropout).replace(\".\", \"_\")\n",
    "    ts = datetime.now().strftime(\"%Y%m%dT%H%M%S\")\n",
    "    model_save_path = f\"model/{block_size}_{n_layer}x{num_heads}x{embedding_size}_{dropout_text}_fp32_iter{train_step}_{ts}.pt\"\n",
    "    if save_half:\n",
    "        model_save_path_half = model_save_path.replace(\"fp32\", \"fp16\")\n",
    "        torch.save(m.half().state_dict(), model_save_path_half)\n",
    "        if should_print:\n",
    "            print(f\"Saved model to \\\"{model_save_path_half}\\\"\")\n",
    "    else:\n",
    "        torch.save(m.state_dict(), model_save_path)\n",
    "        if should_print:\n",
    "            print(f\"Saved model to \\\"{model_save_path}\\\"\")"
   ]
  },
  {
   "cell_type": "code",
   "execution_count": 42,
   "id": "0c71b7d5-36ee-4faa-a045-f4b3eed09709",
   "metadata": {},
   "outputs": [
    {
     "name": "stdout",
     "output_type": "stream",
     "text": [
      "Step 1: train_loss=5.55992, val_loss=5.60891, dur=42.68s\n",
      "Step 500: train_loss=2.45181, val_loss=2.48498, dur=94.76s\n",
      "Step 1000: train_loss=1.83304, val_loss=1.98096, dur=147.28s\n",
      "Step 1500: train_loss=1.48769, val_loss=1.68838, dur=199.85s\n",
      "Step 2000: train_loss=1.34856, val_loss=1.61017, dur=253.96s\n",
      "Step 2500: train_loss=1.28370, val_loss=1.58126, dur=307.56s\n",
      "Step 3000: train_loss=1.22707, val_loss=1.54274, dur=360.33s\n",
      "Step 3500: train_loss=1.19192, val_loss=1.53189, dur=413.16s\n",
      "Step 4000: train_loss=1.14671, val_loss=1.50873, dur=465.89s\n",
      "Step 4500: train_loss=1.11858, val_loss=1.51996, dur=518.67s\n",
      "Step 5000: train_loss=1.09290, val_loss=1.51635, dur=571.28s\n"
     ]
    }
   ],
   "source": [
    "start = time.time()\n",
    "for _ in range(max_iters):\n",
    "    optimizer.zero_grad(set_to_none=True)\n",
    "\n",
    "    train_step += 1\n",
    "    xb, yb = get_batch('train')\n",
    "    if scalar is None:\n",
    "        logits, loss = m(xb, yb)\n",
    "        loss.backward()\n",
    "        optimizer.step()\n",
    "    else:\n",
    "        with torch.cuda.amp.autocast():\n",
    "            logits, loss = m(xb, yb)\n",
    "        scalar.scale(loss).backward()\n",
    "        scalar.step(optimizer)\n",
    "        scalar.update()\n",
    "    \n",
    "    if train_step <= 1 or train_step % eval_interval == 0:\n",
    "        batch_loss = estimate_loss(m, loss_est_n_batch)\n",
    "        print(\"Step {step}: train_loss={train:.5f}, val_loss={val:.5f}, dur={dur:.2f}s\".format(step=train_step, train=batch_loss['train'], val=batch_loss['val'], dur=time.time() - start))\n",
    "        if train_step > 1 and train_step % max_iters > 0:\n",
    "            save_model(m, train_step, should_print=False, save_half=False)"
   ]
  },
  {
   "cell_type": "code",
   "execution_count": 43,
   "id": "972cd419-86d6-4d68-9b80-72a69101cc6d",
   "metadata": {},
   "outputs": [
    {
     "name": "stdout",
     "output_type": "stream",
     "text": [
      "Saved model to \"model/1024_6x6x384_0_3_fp32_iter5000_20230814T202102.pt\"\n",
      "Saved model to \"model/1024_6x6x384_0_3_fp16_iter5000_20230814T202102.pt\"\n"
     ]
    }
   ],
   "source": [
    "save_model(m, train_step, should_print=True, save_half=False)\n",
    "save_model(m, train_step, should_print=True, save_half=True)"
   ]
  },
  {
   "cell_type": "code",
   "execution_count": 46,
   "id": "fbf8ea44-65cf-42a3-8cce-69e772a7f9ff",
   "metadata": {},
   "outputs": [
    {
     "name": "stdout",
     "output_type": "stream",
     "text": [
      "SHUYANG FROM NEW YORK:\n",
      "Ay, ay, of with 'once times, now give me from thee.\n",
      "\n",
      "BUCKINGHAM:\n",
      "Nor news into my lord. But if it be done,\n",
      "Poisoner of a deed, nor a-flattering it;\n",
      "But in the bout of Edward, who, and writed me;\n",
      "Nor strong Edward that time to relious mother;\n",
      "Nor I doth father a princious subjects\n",
      "Which true Edward at thy grandation,\n",
      "Else doth three stateful Edward's sake,\n",
      "And tell thee storm on, or rush the rest.\n",
      "More afterward to wish the depant arms,\n",
      "Or Rivers, sir France, they like unto my shame,\n",
      "Nor ingorou\n"
     ]
    }
   ],
   "source": [
    "start_text = \"SHUYANG FROM NEW YORK:\"\n",
    "idx = torch.tensor(np.array(encode(start_text)), dtype=torch.long).view(1, len(start_text))\n",
    "m.eval()\n",
    "generated = m.half().generate(idx, max_new_tokens=500)\n",
    "m.train()\n",
    "print(decode(generated[0].tolist()))"
   ]
  }
 ],
 "metadata": {
  "kernelspec": {
   "display_name": "Python 3 (ipykernel)",
   "language": "python",
   "name": "python3"
  },
  "language_info": {
   "codemirror_mode": {
    "name": "ipython",
    "version": 3
   },
   "file_extension": ".py",
   "mimetype": "text/x-python",
   "name": "python",
   "nbconvert_exporter": "python",
   "pygments_lexer": "ipython3",
   "version": "3.10.12"
  }
 },
 "nbformat": 4,
 "nbformat_minor": 5
}
